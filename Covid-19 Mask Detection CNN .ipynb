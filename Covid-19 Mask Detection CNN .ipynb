{
 "cells": [
  {
   "cell_type": "code",
   "execution_count": 1,
   "metadata": {},
   "outputs": [],
   "source": [
    "import os\n",
    "path_with_mask = r'C:\\\\Users\\\\Arshit\\\\Covid19 Mask Detection\\\\train\\\\with_mask'\n",
    "path_without_mask = r'C:\\\\Users\\\\Arshit\\\\Covid19 Mask Detection\\\\train\\\\without_mask'"
   ]
  },
  {
   "cell_type": "code",
   "execution_count": 2,
   "metadata": {},
   "outputs": [
    {
     "name": "stdout",
     "output_type": "stream",
     "text": [
      "341\n",
      "275\n"
     ]
    }
   ],
   "source": [
    "li_with_mask = os.listdir(path_with_mask)\n",
    "li_without_mask = os.listdir(path_without_mask)\n",
    "\n",
    "print(len(li_with_mask))\n",
    "print(len(li_without_mask))"
   ]
  },
  {
   "cell_type": "code",
   "execution_count": 3,
   "metadata": {},
   "outputs": [],
   "source": [
    "import cv2"
   ]
  },
  {
   "cell_type": "code",
   "execution_count": 4,
   "metadata": {},
   "outputs": [],
   "source": [
    "X_train = []\n",
    "for i in range(341):\n",
    "    \n",
    "    img = cv2.imread(path_with_mask+'\\\\'+li_with_mask[i])\n",
    "    img = cv2.resize(img,(32,32))\n",
    "    X_train.append(img)"
   ]
  },
  {
   "cell_type": "code",
   "execution_count": 5,
   "metadata": {},
   "outputs": [],
   "source": [
    "for i in range(275):\n",
    "    img = cv2.imread(path_without_mask+'\\\\'+li_without_mask[i])\n",
    "    img = cv2.resize(img,(32,32))\n",
    "    X_train.append(img)"
   ]
  },
  {
   "cell_type": "code",
   "execution_count": 6,
   "metadata": {},
   "outputs": [],
   "source": [
    "import numpy as np"
   ]
  },
  {
   "cell_type": "code",
   "execution_count": 7,
   "metadata": {},
   "outputs": [],
   "source": [
    "X_train = np.reshape(X_train,(len(X_train),)+(32,32,3))"
   ]
  },
  {
   "cell_type": "code",
   "execution_count": 8,
   "metadata": {},
   "outputs": [],
   "source": [
    "Y_train = []\n",
    "for i in range(len(li_with_mask)):\n",
    "    Y_train.append(1)\n",
    "    \n",
    "for j in range(len(li_without_mask)):\n",
    "    Y_train.append(0)"
   ]
  },
  {
   "cell_type": "code",
   "execution_count": 9,
   "metadata": {},
   "outputs": [],
   "source": [
    "Y_train = np.reshape(Y_train,(len(Y_train),)+(1,))"
   ]
  },
  {
   "cell_type": "code",
   "execution_count": 10,
   "metadata": {},
   "outputs": [
    {
     "name": "stdout",
     "output_type": "stream",
     "text": [
      "(616, 32, 32, 3)\n",
      "(616, 1)\n"
     ]
    }
   ],
   "source": [
    "print(X_train.shape)\n",
    "print(Y_train.shape)"
   ]
  },
  {
   "cell_type": "code",
   "execution_count": 13,
   "metadata": {},
   "outputs": [],
   "source": [
    "def convert_to_one_hot(Y, C):\n",
    "    Y = np.eye(C)[Y.reshape(-1)]\n",
    "    return Y"
   ]
  },
  {
   "cell_type": "code",
   "execution_count": 14,
   "metadata": {},
   "outputs": [],
   "source": [
    "Y_oh_train = convert_to_one_hot(Y_train, C = 2)"
   ]
  },
  {
   "cell_type": "code",
   "execution_count": 15,
   "metadata": {},
   "outputs": [
    {
     "data": {
      "text/plain": [
       "(616, 2)"
      ]
     },
     "execution_count": 15,
     "metadata": {},
     "output_type": "execute_result"
    }
   ],
   "source": [
    "Y_oh_train.shape"
   ]
  },
  {
   "cell_type": "code",
   "execution_count": 16,
   "metadata": {},
   "outputs": [
    {
     "name": "stderr",
     "output_type": "stream",
     "text": [
      "Using TensorFlow backend.\n"
     ]
    }
   ],
   "source": [
    "from keras.layers import LSTM, Embedding, TimeDistributed, Dense, RepeatVector,\\\n",
    "                         Activation, Flatten, Reshape, concatenate, Dropout, BatchNormalization\n",
    "from keras.optimizers import Adam, RMSprop\n",
    "from keras.layers.wrappers import Bidirectional\n",
    "from keras.layers.merge import add\n",
    "from keras.applications.inception_v3 import InceptionV3\n",
    "from keras.preprocessing import image\n",
    "from keras.models import Model\n",
    "from keras import Input, layers\n",
    "from keras import optimizers\n",
    "from keras.applications.inception_v3 import preprocess_input\n",
    "from keras.preprocessing.text import Tokenizer\n",
    "from keras.preprocessing.sequence import pad_sequences\n",
    "from keras.utils import to_categorical\n",
    "import numpy as np\n",
    "from keras.layers import Dense, Activation, Dropout, Input, Masking, TimeDistributed, LSTM, Conv2D, MaxPooling2D"
   ]
  },
  {
   "cell_type": "code",
   "execution_count": 17,
   "metadata": {},
   "outputs": [],
   "source": [
    "import keras"
   ]
  },
  {
   "cell_type": "code",
   "execution_count": 18,
   "metadata": {},
   "outputs": [
    {
     "name": "stdout",
     "output_type": "stream",
     "text": [
      "WARNING:tensorflow:From C:\\Users\\Arshit\\Anaconda3\\lib\\site-packages\\tensorflow_core\\python\\ops\\resource_variable_ops.py:1630: calling BaseResourceVariable.__init__ (from tensorflow.python.ops.resource_variable_ops) with constraint is deprecated and will be removed in a future version.\n",
      "Instructions for updating:\n",
      "If using Keras pass *_constraint arguments to layers.\n",
      "WARNING:tensorflow:From C:\\Users\\Arshit\\Anaconda3\\lib\\site-packages\\keras\\backend\\tensorflow_backend.py:4074: The name tf.nn.avg_pool is deprecated. Please use tf.nn.avg_pool2d instead.\n",
      "\n"
     ]
    }
   ],
   "source": [
    "model = keras.Sequential()\n",
    "\n",
    "model.add(layers.Conv2D(filters=6, kernel_size=(3, 3), activation='tanh', input_shape=(32,32,3)))\n",
    "model.add(layers.AveragePooling2D())\n",
    "\n",
    "model.add(layers.Conv2D(filters=16, kernel_size=(3, 3), activation='tanh'))\n",
    "model.add(layers.AveragePooling2D())\n",
    "\n",
    "model.add(layers.Flatten())\n",
    "\n",
    "model.add(layers.Dense(units=120, activation='relu'))\n",
    "\n",
    "model.add(layers.Dense(units=84, activation='relu'))\n",
    "\n",
    "model.add(layers.Dense(units=2, activation = 'softmax'))"
   ]
  },
  {
   "cell_type": "code",
   "execution_count": 19,
   "metadata": {},
   "outputs": [
    {
     "name": "stdout",
     "output_type": "stream",
     "text": [
      "Model: \"sequential_1\"\n",
      "_________________________________________________________________\n",
      "Layer (type)                 Output Shape              Param #   \n",
      "=================================================================\n",
      "conv2d_1 (Conv2D)            (None, 30, 30, 6)         168       \n",
      "_________________________________________________________________\n",
      "average_pooling2d_1 (Average (None, 15, 15, 6)         0         \n",
      "_________________________________________________________________\n",
      "conv2d_2 (Conv2D)            (None, 13, 13, 16)        880       \n",
      "_________________________________________________________________\n",
      "average_pooling2d_2 (Average (None, 6, 6, 16)          0         \n",
      "_________________________________________________________________\n",
      "flatten_1 (Flatten)          (None, 576)               0         \n",
      "_________________________________________________________________\n",
      "dense_1 (Dense)              (None, 120)               69240     \n",
      "_________________________________________________________________\n",
      "dense_2 (Dense)              (None, 84)                10164     \n",
      "_________________________________________________________________\n",
      "dense_3 (Dense)              (None, 2)                 170       \n",
      "=================================================================\n",
      "Total params: 80,622\n",
      "Trainable params: 80,622\n",
      "Non-trainable params: 0\n",
      "_________________________________________________________________\n"
     ]
    }
   ],
   "source": [
    "model.summary()"
   ]
  },
  {
   "cell_type": "code",
   "execution_count": 22,
   "metadata": {},
   "outputs": [],
   "source": [
    "model.compile(loss=keras.losses.binary_crossentropy, optimizer='adam', metrics=['accuracy'])"
   ]
  },
  {
   "cell_type": "code",
   "execution_count": 23,
   "metadata": {},
   "outputs": [
    {
     "name": "stdout",
     "output_type": "stream",
     "text": [
      "Epoch 1/20\n",
      "616/616 [==============================] - 0s 578us/step - loss: 0.2374 - accuracy: 0.9156\n",
      "Epoch 2/20\n",
      "616/616 [==============================] - 0s 360us/step - loss: 0.1382 - accuracy: 0.9464\n",
      "Epoch 3/20\n",
      "616/616 [==============================] - 0s 414us/step - loss: 0.1058 - accuracy: 0.9562\n",
      "Epoch 4/20\n",
      "616/616 [==============================] - 0s 329us/step - loss: 0.0635 - accuracy: 0.9740\n",
      "Epoch 5/20\n",
      "616/616 [==============================] - 0s 347us/step - loss: 0.0439 - accuracy: 0.9886\n",
      "Epoch 6/20\n",
      "616/616 [==============================] - 0s 327us/step - loss: 0.0370 - accuracy: 0.9903\n",
      "Epoch 7/20\n",
      "616/616 [==============================] - 0s 339us/step - loss: 0.0402 - accuracy: 0.9838\n",
      "Epoch 8/20\n",
      "616/616 [==============================] - 0s 317us/step - loss: 0.0373 - accuracy: 0.9838\n",
      "Epoch 9/20\n",
      "616/616 [==============================] - 0s 353us/step - loss: 0.0187 - accuracy: 0.9919\n",
      "Epoch 10/20\n",
      "616/616 [==============================] - 0s 347us/step - loss: 0.0443 - accuracy: 0.9838\n",
      "Epoch 11/20\n",
      "616/616 [==============================] - 0s 405us/step - loss: 0.0168 - accuracy: 0.9919\n",
      "Epoch 12/20\n",
      "616/616 [==============================] - 0s 429us/step - loss: 0.0397 - accuracy: 0.9854\n",
      "Epoch 13/20\n",
      "616/616 [==============================] - 0s 427us/step - loss: 0.0363 - accuracy: 0.9838\n",
      "Epoch 14/20\n",
      "616/616 [==============================] - 0s 432us/step - loss: 0.0086 - accuracy: 0.9968\n",
      "Epoch 15/20\n",
      "616/616 [==============================] - 0s 378us/step - loss: 0.0052 - accuracy: 1.0000\n",
      "Epoch 16/20\n",
      "616/616 [==============================] - 0s 387us/step - loss: 0.0027 - accuracy: 1.0000\n",
      "Epoch 17/20\n",
      "616/616 [==============================] - 0s 314us/step - loss: 0.0018 - accuracy: 1.0000\n",
      "Epoch 18/20\n",
      "616/616 [==============================] - 0s 360us/step - loss: 0.0011 - accuracy: 1.0000\n",
      "Epoch 19/20\n",
      "616/616 [==============================] - 0s 370us/step - loss: 7.0691e-04 - accuracy: 1.0000\n",
      "Epoch 20/20\n",
      "616/616 [==============================] - 0s 390us/step - loss: 5.7293e-04 - accuracy: 1.0000\n"
     ]
    },
    {
     "data": {
      "text/plain": [
       "<keras.callbacks.callbacks.History at 0x1f2bdb4b708>"
      ]
     },
     "execution_count": 23,
     "metadata": {},
     "output_type": "execute_result"
    }
   ],
   "source": [
    "model.fit(X_train, Y_oh_train, batch_size = 16, epochs=20)"
   ]
  },
  {
   "cell_type": "code",
   "execution_count": 24,
   "metadata": {},
   "outputs": [
    {
     "name": "stdout",
     "output_type": "stream",
     "text": [
      "616/616 [==============================] - 0s 178us/step\n"
     ]
    }
   ],
   "source": [
    "loss,acc = model.evaluate(X_train,Y_oh_train)"
   ]
  },
  {
   "cell_type": "code",
   "execution_count": 25,
   "metadata": {},
   "outputs": [],
   "source": [
    "predictions = model.predict(X_train)"
   ]
  },
  {
   "cell_type": "code",
   "execution_count": 26,
   "metadata": {},
   "outputs": [
    {
     "name": "stdout",
     "output_type": "stream",
     "text": [
      "0.00045780193944334644 1.0\n"
     ]
    }
   ],
   "source": [
    "print(loss,acc)"
   ]
  },
  {
   "cell_type": "code",
   "execution_count": 36,
   "metadata": {},
   "outputs": [
    {
     "name": "stdout",
     "output_type": "stream",
     "text": [
      "66\n",
      "132\n",
      "(198, 32, 32, 3)\n",
      "(198, 1)\n",
      "Epoch 1/20\n",
      "198/198 [==============================] - 0s 314us/step - loss: 1.5990e-04 - accuracy: 1.0000\n",
      "Epoch 2/20\n",
      "198/198 [==============================] - 0s 479us/step - loss: 1.5207e-04 - accuracy: 1.0000\n",
      "Epoch 3/20\n",
      "198/198 [==============================] - 0s 472us/step - loss: 1.4419e-04 - accuracy: 1.0000\n",
      "Epoch 4/20\n",
      "198/198 [==============================] - 0s 418us/step - loss: 1.3712e-04 - accuracy: 1.0000\n",
      "Epoch 5/20\n",
      "198/198 [==============================] - 0s 415us/step - loss: 1.3170e-04 - accuracy: 1.0000\n",
      "Epoch 6/20\n",
      "198/198 [==============================] - 0s 366us/step - loss: 1.2537e-04 - accuracy: 1.0000\n",
      "Epoch 7/20\n",
      "198/198 [==============================] - 0s 281us/step - loss: 1.2000e-04 - accuracy: 1.0000\n",
      "Epoch 8/20\n",
      "198/198 [==============================] - 0s 343us/step - loss: 1.1552e-04 - accuracy: 1.0000\n",
      "Epoch 9/20\n",
      "198/198 [==============================] - 0s 405us/step - loss: 1.1089e-04 - accuracy: 1.0000\n",
      "Epoch 10/20\n",
      "198/198 [==============================] - 0s 441us/step - loss: 1.0672e-04 - accuracy: 1.0000\n",
      "Epoch 11/20\n",
      "198/198 [==============================] - 0s 435us/step - loss: 1.0312e-04 - accuracy: 1.0000\n",
      "Epoch 12/20\n",
      "198/198 [==============================] - 0s 349us/step - loss: 9.9870e-05 - accuracy: 1.0000\n",
      "Epoch 13/20\n",
      "198/198 [==============================] - 0s 385us/step - loss: 9.6255e-05 - accuracy: 1.0000\n",
      "Epoch 14/20\n",
      "198/198 [==============================] - 0s 327us/step - loss: 9.2509e-05 - accuracy: 1.0000\n",
      "Epoch 15/20\n",
      "198/198 [==============================] - 0s 340us/step - loss: 8.9377e-05 - accuracy: 1.0000\n",
      "Epoch 16/20\n",
      "198/198 [==============================] - 0s 491us/step - loss: 8.6454e-05 - accuracy: 1.0000\n",
      "Epoch 17/20\n",
      "198/198 [==============================] - 0s 507us/step - loss: 8.2750e-05 - accuracy: 1.0000\n",
      "Epoch 18/20\n",
      "198/198 [==============================] - 0s 482us/step - loss: 8.0021e-05 - accuracy: 1.0000\n",
      "Epoch 19/20\n",
      "198/198 [==============================] - 0s 398us/step - loss: 7.7704e-05 - accuracy: 1.0000\n",
      "Epoch 20/20\n",
      "198/198 [==============================] - 0s 507us/step - loss: 7.5270e-05 - accuracy: 1.0000\n",
      "198/198 [==============================] - 0s 152us/step\n",
      "7.373797283931212e-05 1.0\n"
     ]
    }
   ],
   "source": [
    "# test data\n",
    "\n",
    "import os\n",
    "path_with_mask = r'C:\\\\Users\\\\Arshit\\\\Covid19 Mask Detection\\\\test\\\\with_mask'\n",
    "path_without_mask = r'C:\\\\Users\\\\Arshit\\\\Covid19 Mask Detection\\\\test\\\\without_mask'\n",
    "\n",
    "li_with_mask = os.listdir(path_with_mask)\n",
    "li_without_mask = os.listdir(path_without_mask)\n",
    "\n",
    "print(len(li_with_mask))\n",
    "print(len(li_without_mask))\n",
    "\n",
    "X_test = []\n",
    "for i in range(len(li_with_mask)):\n",
    "    \n",
    "    img = cv2.imread(path_with_mask+'\\\\'+li_with_mask[i])\n",
    "    img = cv2.resize(img,(32,32))\n",
    "    X_test.append(img)\n",
    "    \n",
    "for i in range(len(li_without_mask)):\n",
    "    img = cv2.imread(path_without_mask+'\\\\'+li_without_mask[i])\n",
    "    img = cv2.resize(img,(32,32))\n",
    "    X_test.append(img)\n",
    "    \n",
    "X_test = np.reshape(X_test,(len(X_test),)+(32,32,3))\n",
    "Y_test = []\n",
    "for i in range(len(li_with_mask)):\n",
    "    Y_test.append(1)\n",
    "    \n",
    "for j in range(len(li_without_mask)):\n",
    "    Y_test.append(0)\n",
    "    \n",
    "Y_test = np.reshape(Y_test,(len(Y_test),)+(1,))\n",
    "\n",
    "print(X_test.shape)\n",
    "print(Y_test.shape)\n",
    "\n",
    "Y_oh_test = convert_to_one_hot(Y_test, C = 2)\n",
    "\n",
    "model.fit(X_test, Y_oh_test, batch_size = 16, epochs=20)\n",
    "\n",
    "test_loss, test_acc = model.evaluate(X_test,Y_oh_test)\n",
    "\n",
    "print(test_loss, test_acc)"
   ]
  },
  {
   "cell_type": "code",
   "execution_count": 34,
   "metadata": {},
   "outputs": [
    {
     "name": "stdout",
     "output_type": "stream",
     "text": [
      "Mask not detected\n"
     ]
    }
   ],
   "source": [
    "# Testing image without mask\n",
    "random_image = cv2.imread('1.jpg')\n",
    "random_image = cv2.resize(random_image,(32,32))\n",
    "random_img = np.reshape(random_image,(1,)+(32,32,3))\n",
    "pred = model.predict(random_img)\n",
    "pred = np.argmax(pred)\n",
    "if pred==1:\n",
    "    print(\"Mask Detected\")\n",
    "else:\n",
    "    print(\"Mask not detected\")"
   ]
  },
  {
   "cell_type": "code",
   "execution_count": 33,
   "metadata": {},
   "outputs": [
    {
     "name": "stdout",
     "output_type": "stream",
     "text": [
      "Mask Detected\n"
     ]
    }
   ],
   "source": [
    "# testing image with mask\n",
    "random_image = cv2.imread('79-with-mask.jpg')\n",
    "random_image = cv2.resize(random_image,(32,32))\n",
    "random_img = np.reshape(random_image,(1,)+(32,32,3))\n",
    "pred = model.predict(random_img)\n",
    "pred = np.argmax(pred)\n",
    "if pred==1:\n",
    "    print(\"Mask Detected\")\n",
    "else:\n",
    "    print(\"Mask not detected\")"
   ]
  },
  {
   "cell_type": "code",
   "execution_count": null,
   "metadata": {},
   "outputs": [],
   "source": []
  }
 ],
 "metadata": {
  "kernelspec": {
   "display_name": "Python 3",
   "language": "python",
   "name": "python3"
  },
  "language_info": {
   "codemirror_mode": {
    "name": "ipython",
    "version": 3
   },
   "file_extension": ".py",
   "mimetype": "text/x-python",
   "name": "python",
   "nbconvert_exporter": "python",
   "pygments_lexer": "ipython3",
   "version": "3.7.4"
  }
 },
 "nbformat": 4,
 "nbformat_minor": 2
}
